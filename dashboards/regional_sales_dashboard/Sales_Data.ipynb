{
 "cells": [
  {
   "cell_type": "code",
   "execution_count": 0,
   "metadata": {
    "application/vnd.databricks.v1+cell": {
     "cellMetadata": {
      "byteLimit": 2048000,
      "rowLimit": 10000
     },
     "inputWidgets": {},
     "nuid": "1175fe8d-5cab-4308-8779-065c84d00760",
     "showTitle": false,
     "tableResultSettingsMap": {},
     "title": ""
    }
   },
   "outputs": [],
   "source": [
    "%run /Shared/main_folder_bi/not_so_main_folder_BI/databricks_poc/helpers//dynamic_queries.py/Dynamic_Sales_Query\n"
   ]
  },
  {
   "cell_type": "code",
   "execution_count": 0,
   "metadata": {
    "application/vnd.databricks.v1+cell": {
     "cellMetadata": {
      "byteLimit": 2048000,
      "rowLimit": 10000
     },
     "inputWidgets": {},
     "nuid": "af528231-5b7c-4f6e-9c42-0d49e39f2561",
     "showTitle": false,
     "tableResultSettingsMap": {},
     "title": ""
    }
   },
   "outputs": [],
   "source": [
    "# Create widgets for user input\n",
    "dbutils.widgets.text(\"segment\", \"Consumer\", \"Select Segment\")\n",
    "dbutils.widgets.text(\"region\", \"West\", \"Select Region\")\n",
    "\n",
    "# Read widget values into Python variables\n",
    "segment = dbutils.widgets.get(\"segment\")\n",
    "region = dbutils.widgets.get(\"region\")\n"
   ]
  },
  {
   "cell_type": "code",
   "execution_count": 0,
   "metadata": {
    "application/vnd.databricks.v1+cell": {
     "cellMetadata": {
      "byteLimit": 2048000,
      "rowLimit": 10000
     },
     "inputWidgets": {},
     "nuid": "1f7c5a90-504b-461f-ad93-e0240ffc9ffa",
     "showTitle": false,
     "tableResultSettingsMap": {},
     "title": ""
    }
   },
   "outputs": [],
   "source": [
    "df = dynamic_sales_query(segment, region)\n",
    "display(df)"
   ]
  }
 ],
 "metadata": {
  "application/vnd.databricks.v1+notebook": {
   "computePreferences": null,
   "dashboards": [],
   "environmentMetadata": {
    "base_environment": "",
    "environment_version": "2"
   },
   "inputWidgetPreferences": null,
   "language": "python",
   "notebookMetadata": {
    "pythonIndentUnit": 4
   },
   "notebookName": "Sales_Data",
   "widgets": {
    "region": {
     "currentValue": "East",
     "nuid": "adec824e-77d3-4a26-b0d4-8f0141e773f9",
     "typedWidgetInfo": {
      "autoCreated": false,
      "defaultValue": "West",
      "label": "Select Region",
      "name": "region",
      "options": {
       "widgetDisplayType": "Text",
       "validationRegex": null
      },
      "parameterDataType": "String"
     },
     "widgetInfo": {
      "widgetType": "text",
      "defaultValue": "West",
      "label": "Select Region",
      "name": "region",
      "options": {
       "widgetType": "text",
       "autoCreated": null,
       "validationRegex": null
      }
     }
    },
    "segment": {
     "currentValue": "Consumer",
     "nuid": "07c11b00-50e0-41ae-b778-ad9d19bf0da1",
     "typedWidgetInfo": {
      "autoCreated": false,
      "defaultValue": "Consumer",
      "label": "Select Segment",
      "name": "segment",
      "options": {
       "widgetDisplayType": "Text",
       "validationRegex": null
      },
      "parameterDataType": "String"
     },
     "widgetInfo": {
      "widgetType": "text",
      "defaultValue": "Consumer",
      "label": "Select Segment",
      "name": "segment",
      "options": {
       "widgetType": "text",
       "autoCreated": null,
       "validationRegex": null
      }
     }
    }
   }
  },
  "language_info": {
   "name": "python"
  }
 },
 "nbformat": 4,
 "nbformat_minor": 0
}
