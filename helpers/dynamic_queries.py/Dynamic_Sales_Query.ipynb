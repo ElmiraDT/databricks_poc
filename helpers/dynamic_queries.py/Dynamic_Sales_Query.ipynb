{
 "cells": [
  {
   "cell_type": "code",
   "execution_count": 0,
   "metadata": {
    "application/vnd.databricks.v1+cell": {
     "cellMetadata": {
      "byteLimit": 2048000,
      "rowLimit": 10000
     },
     "inputWidgets": {},
     "nuid": "748a3d55-22de-4e85-a5b2-cb28eb39d845",
     "showTitle": false,
     "tableResultSettingsMap": {},
     "title": ""
    }
   },
   "outputs": [],
   "source": [
    "\n",
    "\n",
    "def dynamic_sales_query(segment, region):\n",
    "    query = f\"\"\"\n",
    "        SELECT \n",
    "            `Customer ID`, \n",
    "            `Customer Name`, \n",
    "            Segment, \n",
    "            Region, \n",
    "            `Order ID`, \n",
    "            Sales\n",
    "        FROM bi.silver.sales_data\n",
    "        WHERE Segment = '{segment}' AND Region = '{region}'\n",
    "    \"\"\"\n",
    "    return spark.sql(query)\n"
   ]
  },
  {
   "cell_type": "code",
   "execution_count": 0,
   "metadata": {
    "application/vnd.databricks.v1+cell": {
     "cellMetadata": {
      "byteLimit": 2048000,
      "rowLimit": 10000
     },
     "inputWidgets": {},
     "nuid": "8dbb15e7-fcbe-4f21-b67c-eff826f178bc",
     "showTitle": false,
     "tableResultSettingsMap": {},
     "title": ""
    }
   },
   "outputs": [],
   "source": [
    "# Create widgets for user input\n",
    "dbutils.widgets.text(\"segment\", \"Consumer\", \"Select Segment\")\n",
    "dbutils.widgets.text(\"region\", \"West\", \"Select Region\")\n",
    "\n",
    "# Read widget values into Python variables\n",
    "segment = dbutils.widgets.get(\"segment\")\n",
    "region = dbutils.widgets.get(\"region\")"
   ]
  },
  {
   "cell_type": "markdown",
   "metadata": {
    "application/vnd.databricks.v1+cell": {
     "cellMetadata": {},
     "inputWidgets": {},
     "nuid": "7e09b6d9-308b-48a8-b6dc-eb769de0c2a0",
     "showTitle": false,
     "tableResultSettingsMap": {},
     "title": ""
    }
   },
   "source": [
    "This function generates and executes a dynamic SQL query on the bi.silver.sales_data table.\n",
    "\n",
    "It filters the dataset based on the provided Segment and Region parameters.\n",
    "\n",
    "Returns a DataFrame with selected columns:\n",
    "Customer ID, Customer Name, Segment, Region, Order ID, and Sales"
   ]
  }
 ],
 "metadata": {
  "application/vnd.databricks.v1+notebook": {
   "computePreferences": null,
   "dashboards": [],
   "environmentMetadata": {
    "base_environment": "",
    "environment_version": "2"
   },
   "inputWidgetPreferences": null,
   "language": "python",
   "notebookMetadata": {
    "pythonIndentUnit": 4
   },
   "notebookName": "Dynamic_Sales_Query",
   "widgets": {
    "region": {
     "currentValue": "East",
     "nuid": "4b8a6ec2-cf91-479a-a473-c54e4356482d",
     "typedWidgetInfo": {
      "autoCreated": false,
      "defaultValue": "West",
      "label": "Select Region",
      "name": "region",
      "options": {
       "widgetDisplayType": "Text",
       "validationRegex": null
      },
      "parameterDataType": "String"
     },
     "widgetInfo": {
      "widgetType": "text",
      "defaultValue": "West",
      "label": "Select Region",
      "name": "region",
      "options": {
       "widgetType": "text",
       "autoCreated": null,
       "validationRegex": null
      }
     }
    },
    "segment": {
     "currentValue": "Consumer",
     "nuid": "aab0b054-0531-4d7d-b481-9ede7e05b579",
     "typedWidgetInfo": {
      "autoCreated": false,
      "defaultValue": "Consumer",
      "label": "Select Segment",
      "name": "segment",
      "options": {
       "widgetDisplayType": "Text",
       "validationRegex": null
      },
      "parameterDataType": "String"
     },
     "widgetInfo": {
      "widgetType": "text",
      "defaultValue": "Consumer",
      "label": "Select Segment",
      "name": "segment",
      "options": {
       "widgetType": "text",
       "autoCreated": null,
       "validationRegex": null
      }
     }
    }
   }
  },
  "language_info": {
   "name": "python"
  }
 },
 "nbformat": 4,
 "nbformat_minor": 0
}
