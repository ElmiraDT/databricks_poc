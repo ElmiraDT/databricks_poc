{
 "cells": [
  {
   "cell_type": "code",
   "execution_count": 0,
   "metadata": {
    "application/vnd.databricks.v1+cell": {
     "cellMetadata": {
      "byteLimit": 2048000,
      "rowLimit": 10000
     },
     "inputWidgets": {},
     "nuid": "de8d6b1c-471e-4552-8cfe-8027bacfb182",
     "showTitle": false,
     "tableResultSettingsMap": {},
     "title": ""
    }
   },
   "outputs": [],
   "source": [
    "\n",
    "query = \"\"\"\n",
    "SELECT \n",
    "  `Ship Date`,\n",
    "  SUM(CASE WHEN `Ship Mode` = 'First Class' THEN 1 END) AS First_Class_Count,\n",
    "  SUM(CASE WHEN `Ship Mode` = 'Second Class' THEN 1 END) AS Second_Class_Count,\n",
    "  SUM(CASE WHEN `Ship Mode` = 'Standard Class' THEN 1 END) AS Standard_Class_Count,\n",
    "  SUM(CASE WHEN `Ship Mode` = 'Same Day' THEN 1 END) AS Same_Day_Count\n",
    "FROM bi.silver.sales_data\n",
    "GROUP BY `Ship Date`\n",
    "\"\"\"\n",
    "\n"
   ]
  }
 ],
 "metadata": {
  "application/vnd.databricks.v1+notebook": {
   "computePreferences": null,
   "dashboards": [],
   "environmentMetadata": {
    "base_environment": "",
    "environment_version": "2"
   },
   "inputWidgetPreferences": null,
   "language": "python",
   "notebookMetadata": {
    "pythonIndentUnit": 4
   },
   "notebookName": "ship_mode_logic",
   "widgets": {}
  },
  "language_info": {
   "name": "python"
  }
 },
 "nbformat": 4,
 "nbformat_minor": 0
}
