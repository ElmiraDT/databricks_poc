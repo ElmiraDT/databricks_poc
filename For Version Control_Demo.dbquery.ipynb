{
 "cells": [
  {
   "cell_type": "code",
   "execution_count": 0,
   "metadata": {
    "application/vnd.databricks.v1+cell": {
     "cellMetadata": {
      "byteLimit": 10485760,
      "rowLimit": 1000
     },
     "inputWidgets": {},
     "nuid": "dd484ef5-7911-40fb-bc1b-4eb7801aeec4",
     "showTitle": false,
     "tableResultSettingsMap": {},
     "title": ""
    }
   },
   "outputs": [],
   "source": [
    "SELECT\n",
    "  `Ship Date`,\n",
    "  SUM(CASE WHEN `Ship Mode` = 'First Class' THEN 1 END) AS First_Class_Count,\n",
    "  SUM(CASE WHEN `Ship Mode` = 'Second Class' THEN 1 END) AS Second_Class_Count,\n",
    "  SUM(CASE WHEN `Ship Mode` = 'Standard Class' THEN 1 END) AS Standard_Class_Count,\n",
    "  SUM(CASE WHEN `Ship Mode` = 'Same Day' THEN 1 END) AS Same_Day_Count\n",
    "FROM bi.silver.sales_data\n",
    "GROUP BY `Ship Date`\n",
    "ORDER BY `Ship Date`;\n"
   ]
  }
 ],
 "metadata": {
  "application/vnd.databricks.v1+notebook": {
   "computePreferences": null,
   "dashboards": [],
   "environmentMetadata": null,
   "inputWidgetPreferences": null,
   "language": "sql",
   "notebookMetadata": {
    "pythonIndentUnit": 4,
    "sqlQueryOptions": {
     "applyAutoLimit": true,
     "catalog": "bi",
     "schema": "bronze"
    }
   },
   "notebookName": "For Version Control_Demo.dbquery.ipynb",
   "widgets": {}
  },
  "language_info": {
   "name": "sql"
  }
 },
 "nbformat": 4,
 "nbformat_minor": 0
}
